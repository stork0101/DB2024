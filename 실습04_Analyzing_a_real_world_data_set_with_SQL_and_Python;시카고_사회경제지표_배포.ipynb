{
  "cells": [
    {
      "cell_type": "markdown",
      "metadata": {
        "id": "view-in-github",
        "colab_type": "text"
      },
      "source": [
        "<a href=\"https://colab.research.google.com/github/stork0101/DB2024/blob/main/%EC%8B%A4%EC%8A%B504_Analyzing_a_real_world_data_set_with_SQL_and_Python%3B%EC%8B%9C%EC%B9%B4%EA%B3%A0_%EC%82%AC%ED%9A%8C%EA%B2%BD%EC%A0%9C%EC%A7%80%ED%91%9C_%EB%B0%B0%ED%8F%AC.ipynb\" target=\"_parent\"><img src=\"https://colab.research.google.com/assets/colab-badge.svg\" alt=\"Open In Colab\"/></a>"
      ]
    },
    {
      "cell_type": "markdown",
      "metadata": {
        "id": "FFzm0ZH3vzWY"
      },
      "source": [
        "# SQL과 파이썬으로 실세계 데이터셋 분석하기\n",
        "\n",
        "## 학습 목표\n",
        "\n",
        "*   시카고의 선택된 사회경제적 지표에 대한 데이터셋 이해하기\n",
        "*   데이터를 SQLite 데이터베이스에 저장하는 방법 배우기\n",
        "*   예제 문제를 풀어보며 SQL 실력을 향상하기\n"
      ]
    },
    {
      "cell_type": "markdown",
      "metadata": {
        "id": "kZifH-ykvzWZ"
      },
      "source": [
        "## 시카고의 선택된 사회경제적 지표\n",
        "\n",
        "시카고 시는 시카고 시 포털에 사회경제적 데이터셋을 공개했다. 이 데이터셋은 2008년부터 2012년까지 시카고의 각 지역사회에 대해 공중보건과 관련된 6가지 사회경제적 지표와 \"hardship index(고난 지수)\"를 포함하고 있다.\n",
        "\n",
        "고난 지수의 점수는 1에서 100까지 범위로 나타나며, 지수 숫자가 높을수록 더 큰 고난 수준을 나타낸다.\n",
        "\n",
        "데이터셋에 대한 자세한 설명은 [시카고 시 웹사이트](https://data.cityofchicago.org/Health-Human-Services/Census-Data-Selected-socioeconomic-indicators-in-C/kn9c-c2s2?utm_medium=Exinfluencer&utm_source=Exinfluencer&utm_content=000026UJ&utm_term=10006555&utm_id=NA-SkillsNetwork-Channel-SkillsNetworkCoursesIBMDeveloperSkillsNetworkDB0201ENSkillsNetwork20127838-2021-01-01)에서 확인할 수 있지만, 요약하자면, 데이터셋에는 다음과 같은 변수들이 포함되어 있다:\n",
        "\n",
        "*   **Community Area Number** (`ca`): 데이터셋의 각 행을 고유하게 식별하는 데 사용\n",
        "\n",
        "*   **Community Area Name** (`community_area_name`): 시카고 시의 지역 이름\n",
        "\n",
        "*   **Percent of Housing Crowded** (`percent_of_housing_crowded`): 한 방에 한 사람 이상 거주하는 주택 비율\n",
        "\n",
        "*   **Percent Households Below Poverty** (`percent_households_below_poverty`): 연방 빈곤선(federal poverty line) 이하에 거주하는 가구 비율\n",
        "\n",
        "*   **Percent Aged 16+ Unemployed** (`percent_aged_16_unemployed`): 16세 이상 인구 중 실업자 비율\n",
        "\n",
        "*   **Percent Aged 25+ without High School Diploma** (`percent_aged_25_without_high_school_diploma`): 25세 이상 인구 중 고등학교 교육을 받지 않은 비율\n",
        "\n",
        "*   **Percent Aged Under** 18 or Over 64:18세 미만 또는 64세 이상 인구 비율 (즉, 부양자) (`percent_aged_under_18_or_over_64`): (ie. dependents)\n",
        "\n",
        "*   **Per Capita Income** (`per_capita_income_`): 지역사회의 1인당 소득은 구역별 총 소득을 총 인구로 나눈 값으로 추정\n",
        "\n",
        "*   **Hardship Index** (`hardship_index`): 선택된 6가지 사회경제적 지표를 통합하여 계산된 점수\n",
        "\n",
        "이번 실습에서는 사회경제적 지표 데이터셋의 변수를 살펴보고 Python을 사용하여 기본적인 분석을 수행해보자.\n"
      ]
    },
    {
      "cell_type": "markdown",
      "metadata": {
        "id": "pBmkcYMgvzWa"
      },
      "source": [
        "### 데이터베이스에 연결\n",
        "\n",
        "먼저 SQL extension을 로드하고 데이터베이스와의 연결을 설정하자.\n",
        "\n",
        "##### SQLite를 사용하여 magic SQL에 연결하는 구문은 다음과 같다:\n",
        "\n",
        "  **%sql sqlite://DatabaseName**   \n",
        "  \n",
        "여기서 DatabaseName은 여러분의 **.db** 파일이 된다."
      ]
    },
    {
      "cell_type": "code",
      "execution_count": 3,
      "metadata": {
        "tags": [],
        "id": "YjQ7DzTEvzWa"
      },
      "outputs": [],
      "source": [
        "%load_ext sql"
      ]
    },
    {
      "cell_type": "code",
      "execution_count": 4,
      "metadata": {
        "tags": [],
        "colab": {
          "base_uri": "https://localhost:8080/"
        },
        "id": "y6Z3d_UdvzWa",
        "outputId": "de3b297b-b65f-456c-d107-af5e3403041b"
      },
      "outputs": [
        {
          "output_type": "stream",
          "name": "stdout",
          "text": [
            "\u001b[?25l     \u001b[90m━━━━━━━━━━━━━━━━━━━━━━━━━━━━━━━━━━━━━━━━\u001b[0m \u001b[32m0.0/5.2 MB\u001b[0m \u001b[31m?\u001b[0m eta \u001b[36m-:--:--\u001b[0m\r\u001b[2K     \u001b[91m━━━━━━━━━━━━━━━\u001b[0m\u001b[90m╺\u001b[0m\u001b[90m━━━━━━━━━━━━━━━━━━━━━━━━\u001b[0m \u001b[32m2.0/5.2 MB\u001b[0m \u001b[31m56.2 MB/s\u001b[0m eta \u001b[36m0:00:01\u001b[0m\r\u001b[2K     \u001b[91m━━━━━━━━━━━━━━━━━━━━━━━━━━━━━━━━━━━━\u001b[0m\u001b[91m╸\u001b[0m\u001b[90m━━━\u001b[0m \u001b[32m4.8/5.2 MB\u001b[0m \u001b[31m63.5 MB/s\u001b[0m eta \u001b[36m0:00:01\u001b[0m\r\u001b[2K     \u001b[91m━━━━━━━━━━━━━━━━━━━━━━━━━━━━━━━━━━━━━━━\u001b[0m\u001b[91m╸\u001b[0m \u001b[32m5.2/5.2 MB\u001b[0m \u001b[31m62.6 MB/s\u001b[0m eta \u001b[36m0:00:01\u001b[0m\r\u001b[2K     \u001b[90m━━━━━━━━━━━━━━━━━━━━━━━━━━━━━━━━━━━━━━━━\u001b[0m \u001b[32m5.2/5.2 MB\u001b[0m \u001b[31m41.5 MB/s\u001b[0m eta \u001b[36m0:00:00\u001b[0m\n",
            "\u001b[?25h  Installing build dependencies ... \u001b[?25l\u001b[?25hdone\n",
            "  Getting requirements to build wheel ... \u001b[?25l\u001b[?25hdone\n",
            "  Preparing metadata (pyproject.toml) ... \u001b[?25l\u001b[?25hdone\n",
            "  \u001b[1;31merror\u001b[0m: \u001b[1msubprocess-exited-with-error\u001b[0m\n",
            "  \n",
            "  \u001b[31m×\u001b[0m \u001b[32mBuilding wheel for pandas \u001b[0m\u001b[1;32m(\u001b[0m\u001b[32mpyproject.toml\u001b[0m\u001b[1;32m)\u001b[0m did not run successfully.\n",
            "  \u001b[31m│\u001b[0m exit code: \u001b[1;36m1\u001b[0m\n",
            "  \u001b[31m╰─>\u001b[0m See above for output.\n",
            "  \n",
            "  \u001b[1;35mnote\u001b[0m: This error originates from a subprocess, and is likely not a problem with pip.\n",
            "  Building wheel for pandas (pyproject.toml) ... \u001b[?25l\u001b[?25herror\n",
            "\u001b[31m  ERROR: Failed building wheel for pandas\u001b[0m\u001b[31m\n",
            "\u001b[0m\u001b[31mERROR: ERROR: Failed to build installable wheels for some pyproject.toml based projects (pandas)\u001b[0m\u001b[31m\n",
            "\u001b[0m"
          ]
        }
      ],
      "source": [
        "import csv, sqlite3\n",
        "\n",
        "con = sqlite3.connect(\"socioeconomic.db\")\n",
        "cur = con.cursor()\n",
        "!pip install -q pandas==1.1.5"
      ]
    },
    {
      "cell_type": "code",
      "execution_count": 7,
      "metadata": {
        "tags": [],
        "id": "p-GIaWksvzWa"
      },
      "outputs": [],
      "source": [
        "%sql sqlite:///socioeconomic.db"
      ]
    },
    {
      "cell_type": "markdown",
      "metadata": {
        "id": "95LyGf2vvzWb"
      },
      "source": [
        "### 데이터셋을 테이블에 저장하기\n",
        "\n",
        "##### 많은 경우 분석할 데이터셋은 .CSV(comma separated values) 파일로 제공되며, 인터넷에서 찾는 경우가 많다. SQL을 사용하여 데이터를 분석하려면 먼저 데이터를 데이터베이스에 저장해야 한다.\n",
        "\n",
        "##### 먼저 주어진 URL에서 CSV 파일을 읽어 pandas 데이터프레임으로 변환하자.\n",
        "\n",
        "##### 그 다음 `df.to_sql()` 함수를 사용하여 각 CSV 파일을 SQLite의 테이블로 변환하고, 그 안에 CSV 데이터를 로드하자.\n"
      ]
    },
    {
      "cell_type": "code",
      "execution_count": 5,
      "metadata": {
        "tags": [],
        "colab": {
          "base_uri": "https://localhost:8080/"
        },
        "id": "PgldcfqrvzWb",
        "outputId": "8dd4cbfc-aa19-4c3a-c47b-7b5f422742a9"
      },
      "outputs": [
        {
          "output_type": "execute_result",
          "data": {
            "text/plain": [
              "78"
            ]
          },
          "metadata": {},
          "execution_count": 5
        }
      ],
      "source": [
        "import pandas\n",
        "df = pandas.read_csv('https://data.cityofchicago.org/resource/jcxq-k9xf.csv')\n",
        "df.to_sql(\"chicago_socioeconomic_data\", con, if_exists='replace', index=False,method=\"multi\")"
      ]
    },
    {
      "cell_type": "code",
      "source": [
        "%config SqlMagic.style = '_DEPRECATED_DEFAULT'"
      ],
      "metadata": {
        "id": "ic6UqRiPJXRh"
      },
      "execution_count": 6,
      "outputs": []
    },
    {
      "cell_type": "markdown",
      "metadata": {
        "id": "ffDkaHmDvzWb"
      },
      "source": [
        "##### 테이블 생성이 성공했는지 확인하려면 다음과 같은 기본 쿼리를 실행할 수 있다:\n"
      ]
    },
    {
      "cell_type": "code",
      "execution_count": 8,
      "metadata": {
        "tags": [],
        "colab": {
          "base_uri": "https://localhost:8080/",
          "height": 201
        },
        "id": "d0AB3UnlvzWb",
        "outputId": "f198df55-4fde-46f2-8ef7-c86a19c01cc1"
      },
      "outputs": [
        {
          "output_type": "stream",
          "name": "stdout",
          "text": [
            " * sqlite:///socioeconomic.db\n",
            "Done.\n"
          ]
        },
        {
          "output_type": "execute_result",
          "data": {
            "text/plain": [
              "[(1.0, 'Rogers Park', 7.7, 23.6, 8.7, 18.2, 27.5, 23939, 39.0),\n",
              " (2.0, 'West Ridge', 7.8, 17.2, 8.8, 20.8, 38.5, 23040, 46.0),\n",
              " (3.0, 'Uptown', 3.8, 24.0, 8.9, 11.8, 22.2, 35787, 20.0),\n",
              " (4.0, 'Lincoln Square', 3.4, 10.9, 8.2, 13.4, 25.5, 37524, 17.0),\n",
              " (5.0, 'North Center', 0.3, 7.5, 5.2, 4.5, 26.2, 57123, 6.0)]"
            ],
            "text/html": [
              "<table>\n",
              "    <thead>\n",
              "        <tr>\n",
              "            <th>ca</th>\n",
              "            <th>community_area_name</th>\n",
              "            <th>percent_of_housing_crowded</th>\n",
              "            <th>percent_households_below_poverty</th>\n",
              "            <th>percent_aged_16_unemployed</th>\n",
              "            <th>percent_aged_25_without_high_school_diploma</th>\n",
              "            <th>percent_aged_under_18_or_over_64</th>\n",
              "            <th>per_capita_income_</th>\n",
              "            <th>hardship_index</th>\n",
              "        </tr>\n",
              "    </thead>\n",
              "    <tbody>\n",
              "        <tr>\n",
              "            <td>1.0</td>\n",
              "            <td>Rogers Park</td>\n",
              "            <td>7.7</td>\n",
              "            <td>23.6</td>\n",
              "            <td>8.7</td>\n",
              "            <td>18.2</td>\n",
              "            <td>27.5</td>\n",
              "            <td>23939</td>\n",
              "            <td>39.0</td>\n",
              "        </tr>\n",
              "        <tr>\n",
              "            <td>2.0</td>\n",
              "            <td>West Ridge</td>\n",
              "            <td>7.8</td>\n",
              "            <td>17.2</td>\n",
              "            <td>8.8</td>\n",
              "            <td>20.8</td>\n",
              "            <td>38.5</td>\n",
              "            <td>23040</td>\n",
              "            <td>46.0</td>\n",
              "        </tr>\n",
              "        <tr>\n",
              "            <td>3.0</td>\n",
              "            <td>Uptown</td>\n",
              "            <td>3.8</td>\n",
              "            <td>24.0</td>\n",
              "            <td>8.9</td>\n",
              "            <td>11.8</td>\n",
              "            <td>22.2</td>\n",
              "            <td>35787</td>\n",
              "            <td>20.0</td>\n",
              "        </tr>\n",
              "        <tr>\n",
              "            <td>4.0</td>\n",
              "            <td>Lincoln Square</td>\n",
              "            <td>3.4</td>\n",
              "            <td>10.9</td>\n",
              "            <td>8.2</td>\n",
              "            <td>13.4</td>\n",
              "            <td>25.5</td>\n",
              "            <td>37524</td>\n",
              "            <td>17.0</td>\n",
              "        </tr>\n",
              "        <tr>\n",
              "            <td>5.0</td>\n",
              "            <td>North Center</td>\n",
              "            <td>0.3</td>\n",
              "            <td>7.5</td>\n",
              "            <td>5.2</td>\n",
              "            <td>4.5</td>\n",
              "            <td>26.2</td>\n",
              "            <td>57123</td>\n",
              "            <td>6.0</td>\n",
              "        </tr>\n",
              "    </tbody>\n",
              "</table>"
            ]
          },
          "metadata": {},
          "execution_count": 8
        }
      ],
      "source": [
        "%sql SELECT * FROM chicago_socioeconomic_data limit 5;"
      ]
    },
    {
      "cell_type": "markdown",
      "metadata": {
        "id": "MF0ZmIDzvzWb"
      },
      "source": [
        "## Problem\n",
        "\n",
        "### Problem 1\n",
        "\n",
        "##### 데이터셋에 몇 개의 행이 있는가?\n"
      ]
    },
    {
      "cell_type": "code",
      "execution_count": 9,
      "metadata": {
        "tags": [],
        "id": "S79loq2yvzWb",
        "colab": {
          "base_uri": "https://localhost:8080/",
          "height": 97
        },
        "outputId": "c8a51c39-07e3-4be8-f9e7-e416267c0670"
      },
      "outputs": [
        {
          "output_type": "stream",
          "name": "stdout",
          "text": [
            " * sqlite:///socioeconomic.db\n",
            "Done.\n"
          ]
        },
        {
          "output_type": "execute_result",
          "data": {
            "text/plain": [
              "[(78,)]"
            ],
            "text/html": [
              "<table>\n",
              "    <thead>\n",
              "        <tr>\n",
              "            <th>COUNT(*)</th>\n",
              "        </tr>\n",
              "    </thead>\n",
              "    <tbody>\n",
              "        <tr>\n",
              "            <td>78</td>\n",
              "        </tr>\n",
              "    </tbody>\n",
              "</table>"
            ]
          },
          "metadata": {},
          "execution_count": 9
        }
      ],
      "source": [
        "# @@@@@ 여기에 코드를 작성하세요. @@@@@\n",
        "%sql SELECT COUNT(*) FROM chicago_socioeconomic_data"
      ]
    },
    {
      "cell_type": "markdown",
      "metadata": {
        "id": "ol4-MSQ-vzWc"
      },
      "source": [
        "### Problem 2\n",
        "\n",
        "##### 시카고에서 고난 지수(hardship index)가 50.0을 초과하는 지역사회는 몇 개인가?\n"
      ]
    },
    {
      "cell_type": "code",
      "execution_count": 10,
      "metadata": {
        "tags": [],
        "id": "Ynb9Bv-VvzWc",
        "colab": {
          "base_uri": "https://localhost:8080/",
          "height": 97
        },
        "outputId": "8e3ef107-5300-4d30-a6f5-bf871a680a26"
      },
      "outputs": [
        {
          "output_type": "stream",
          "name": "stdout",
          "text": [
            " * sqlite:///socioeconomic.db\n",
            "Done.\n"
          ]
        },
        {
          "output_type": "execute_result",
          "data": {
            "text/plain": [
              "[(38,)]"
            ],
            "text/html": [
              "<table>\n",
              "    <thead>\n",
              "        <tr>\n",
              "            <th>COUNT(*)</th>\n",
              "        </tr>\n",
              "    </thead>\n",
              "    <tbody>\n",
              "        <tr>\n",
              "            <td>38</td>\n",
              "        </tr>\n",
              "    </tbody>\n",
              "</table>"
            ]
          },
          "metadata": {},
          "execution_count": 10
        }
      ],
      "source": [
        "# @@@@@ 여기에 코드를 작성하세요. @@@@@\n",
        "%sql SELECT COUNT(*) FROM chicago_socioeconomic_data WHERE hardship_index >50.0"
      ]
    },
    {
      "cell_type": "markdown",
      "metadata": {
        "id": "pyVpkFdnvzWc"
      },
      "source": [
        "### Problem 3\n",
        "\n",
        "##### 이 데이터셋에서 고난 지수(hardship index)의 최대값은 얼마인가?\n"
      ]
    },
    {
      "cell_type": "code",
      "execution_count": 11,
      "metadata": {
        "tags": [],
        "id": "kofmduq6vzWc",
        "colab": {
          "base_uri": "https://localhost:8080/",
          "height": 97
        },
        "outputId": "9e51b8bf-1251-4b49-80e9-ab9131a1492f"
      },
      "outputs": [
        {
          "output_type": "stream",
          "name": "stdout",
          "text": [
            " * sqlite:///socioeconomic.db\n",
            "Done.\n"
          ]
        },
        {
          "output_type": "execute_result",
          "data": {
            "text/plain": [
              "[(98.0,)]"
            ],
            "text/html": [
              "<table>\n",
              "    <thead>\n",
              "        <tr>\n",
              "            <th>Max(hardship_index)</th>\n",
              "        </tr>\n",
              "    </thead>\n",
              "    <tbody>\n",
              "        <tr>\n",
              "            <td>98.0</td>\n",
              "        </tr>\n",
              "    </tbody>\n",
              "</table>"
            ]
          },
          "metadata": {},
          "execution_count": 11
        }
      ],
      "source": [
        "# @@@@@ 여기에 코드를 작성하세요. @@@@@\n",
        "%sql SELECT Max(hardship_index) FROM chicago_socioeconomic_data"
      ]
    },
    {
      "cell_type": "markdown",
      "metadata": {
        "id": "uC0m8a85vzWc"
      },
      "source": [
        "### Problem 4\n",
        "\n",
        "##### 가장 높은 고난 지수(hardship index)를 가진 지역사회는 어디인가?"
      ]
    },
    {
      "cell_type": "code",
      "execution_count": 14,
      "metadata": {
        "tags": [],
        "id": "BjPImP7VvzWc",
        "colab": {
          "base_uri": "https://localhost:8080/",
          "height": 97
        },
        "outputId": "d33d5e4a-00d5-4fd6-cad2-22441d4f5a23"
      },
      "outputs": [
        {
          "output_type": "stream",
          "name": "stdout",
          "text": [
            " * sqlite:///socioeconomic.db\n",
            "Done.\n"
          ]
        },
        {
          "output_type": "execute_result",
          "data": {
            "text/plain": [
              "[('Riverdale',)]"
            ],
            "text/html": [
              "<table>\n",
              "    <thead>\n",
              "        <tr>\n",
              "            <th>community_area_name</th>\n",
              "        </tr>\n",
              "    </thead>\n",
              "    <tbody>\n",
              "        <tr>\n",
              "            <td>Riverdale</td>\n",
              "        </tr>\n",
              "    </tbody>\n",
              "</table>"
            ]
          },
          "metadata": {},
          "execution_count": 14
        }
      ],
      "source": [
        "# @@@@@ 여기에 코드를 작성하세요. @@@@@\n",
        "%sql SELECT community_area_name FROM chicago_socioeconomic_data ORDER BY hardship_index DESC LImIT 1;"
      ]
    },
    {
      "cell_type": "markdown",
      "metadata": {
        "id": "64xfaGjWvzWc"
      },
      "source": [
        "### Problem 5\n",
        "\n",
        "##### 1인당 소득이 $60,000을 초과하는 시카고의 지역사회는 어디인가?"
      ]
    },
    {
      "cell_type": "code",
      "execution_count": 15,
      "metadata": {
        "tags": [],
        "id": "9d6ZFC14vzWc",
        "colab": {
          "base_uri": "https://localhost:8080/",
          "height": 160
        },
        "outputId": "fc062014-0bbb-43cf-a330-c3758ac05742"
      },
      "outputs": [
        {
          "output_type": "stream",
          "name": "stdout",
          "text": [
            " * sqlite:///socioeconomic.db\n",
            "Done.\n"
          ]
        },
        {
          "output_type": "execute_result",
          "data": {
            "text/plain": [
              "[('Lake View',), ('Lincoln Park',), ('Near North Side',), ('Loop',)]"
            ],
            "text/html": [
              "<table>\n",
              "    <thead>\n",
              "        <tr>\n",
              "            <th>community_area_name</th>\n",
              "        </tr>\n",
              "    </thead>\n",
              "    <tbody>\n",
              "        <tr>\n",
              "            <td>Lake View</td>\n",
              "        </tr>\n",
              "        <tr>\n",
              "            <td>Lincoln Park</td>\n",
              "        </tr>\n",
              "        <tr>\n",
              "            <td>Near North Side</td>\n",
              "        </tr>\n",
              "        <tr>\n",
              "            <td>Loop</td>\n",
              "        </tr>\n",
              "    </tbody>\n",
              "</table>"
            ]
          },
          "metadata": {},
          "execution_count": 15
        }
      ],
      "source": [
        "# @@@@@ 여기에 코드를 작성하세요. @@@@@\n",
        "%sql SELECT community_area_name FROM chicago_socioeconomic_data WHERE per_capita_income_>60000"
      ]
    },
    {
      "cell_type": "markdown",
      "metadata": {
        "id": "Qx4MOFYXvzWd"
      },
      "source": [
        "### Problem 6\n",
        "\n",
        "##### per_capita_income_와 hardship_index 변수를 사용하여 산점도를 생성하시오. 두 변수 간의 상관관계(correlation)를 설명하시오.\n"
      ]
    },
    {
      "cell_type": "code",
      "execution_count": 20,
      "metadata": {
        "tags": [],
        "id": "XqbIMCOgvzWd",
        "colab": {
          "base_uri": "https://localhost:8080/",
          "height": 504
        },
        "outputId": "678d822e-491c-43b4-f372-29375cd26e23"
      },
      "outputs": [
        {
          "output_type": "display_data",
          "data": {
            "text/plain": [
              "<Figure size 640x480 with 1 Axes>"
            ],
            "image/png": "[encoded data removed]"
          },
          "metadata": {}
        }
      ],
      "source": [
        "import matplotlib.pyplot as plt\n",
        "%matplotlib inline\n",
        "import seaborn as sns\n",
        "\n",
        "# @@@@@ 여기에 코드를 작성하세요. @@@@@\n",
        "\n",
        "\n",
        "plot = sns.scatterplot(x=\"per_capita_income_\", y=\"hardship_index\", data=df)\n",
        "plt.setp(plot.get_xticklabels(), rotation=70)\n",
        "plt.title('correlation')\n",
        "plt.show()"
      ]
    },
    {
      "cell_type": "markdown",
      "metadata": {
        "id": "EmSagJTzvzWd"
      },
      "source": [
        "### 결론\n",
        "\n",
        "##### 이제 SQL과 Python 시각화 도구를 사용하여 기본적인 탐색적 데이터 분석을 수행하는 방법을 알게 되었으니, 이 데이터셋을 더 깊이 탐구하여 `per_capita_income_` 변수가 `percent_households_below_poverty` 및 `percent_aged_16_unemployed`와 어떻게 관련이 있는지 확인해보자. 시각화를 시도해보길 추천한다.\n"
      ]
    },
    {
      "cell_type": "markdown",
      "metadata": {
        "id": "EQSLQDM8vzWd"
      },
      "source": [
        "## Summary\n",
        "\n",
        "##### 이번 실습에서는 인터넷에서 실제 데이터를 데이터베이스에 저장하고, SQL 쿼리를 통해 데이터에 대한 통찰을 얻는 방법을 배웠다. 또한 데이터베이스의 일부 데이터를 시각화하여 데이터가 어떤 이야기를 하는지 살펴보았다."
      ]
    },
    {
      "cell_type": "code",
      "execution_count": null,
      "metadata": {
        "id": "ScZoixnFvzWd"
      },
      "outputs": [],
      "source": []
    }
  ],
  "metadata": {
    "kernelspec": {
      "display_name": "Python",
      "language": "python",
      "name": "conda-env-python-py"
    },
    "language_info": {
      "codemirror_mode": {
        "name": "ipython",
        "version": 3
      },
      "file_extension": ".py",
      "mimetype": "text/x-python",
      "name": "python",
      "nbconvert_exporter": "python",
      "pygments_lexer": "ipython3",
      "version": "3.7.12"
    },
    "prev_pub_hash": "09ce986e3758d87b2cada309c08f7752eec5d24e24ca1cd547400d918772eeab",
    "colab": {
      "provenance": [],
      "include_colab_link": true
    }
  },
  "nbformat": 4,
  "nbformat_minor": 0
}